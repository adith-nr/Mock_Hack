{
 "cells": [
  {
   "cell_type": "code",
   "execution_count": 2,
   "metadata": {},
   "outputs": [],
   "source": [
    "import pandas as pd"
   ]
  },
  {
   "cell_type": "code",
   "execution_count": 3,
   "metadata": {},
   "outputs": [],
   "source": [
    "# import pandas as pd\n",
    "\n",
    "# # Load Excel file\n",
    "# df = pd.read_excel(\"Anuvaad_INDB_2024.11.xlsx\")  # You can also specify sheet_name=\"Sheet1\"\n",
    "\n",
    "# # Save to CSV\n",
    "# df.to_csv(\"output.csv\", index=False)\n"
   ]
  },
  {
   "cell_type": "code",
   "execution_count": 5,
   "metadata": {},
   "outputs": [
    {
     "data": {
      "text/html": [
       "<div>\n",
       "<style scoped>\n",
       "    .dataframe tbody tr th:only-of-type {\n",
       "        vertical-align: middle;\n",
       "    }\n",
       "\n",
       "    .dataframe tbody tr th {\n",
       "        vertical-align: top;\n",
       "    }\n",
       "\n",
       "    .dataframe thead th {\n",
       "        text-align: right;\n",
       "    }\n",
       "</style>\n",
       "<table border=\"1\" class=\"dataframe\">\n",
       "  <thead>\n",
       "    <tr style=\"text-align: right;\">\n",
       "      <th></th>\n",
       "      <th>food_code</th>\n",
       "      <th>food_name</th>\n",
       "      <th>primarysource</th>\n",
       "      <th>energy_kj</th>\n",
       "      <th>energy_kcal</th>\n",
       "      <th>carb_g</th>\n",
       "      <th>protein_g</th>\n",
       "      <th>fat_g</th>\n",
       "      <th>freesugar_g</th>\n",
       "      <th>fibre_g</th>\n",
       "      <th>...</th>\n",
       "      <th>unit_serving_folate_ug</th>\n",
       "      <th>unit_serving_vitb1_mg</th>\n",
       "      <th>unit_serving_vitb2_mg</th>\n",
       "      <th>unit_serving_vitb3_mg</th>\n",
       "      <th>unit_serving_vitb5_mg</th>\n",
       "      <th>unit_serving_vitb6_mg</th>\n",
       "      <th>unit_serving_vitb7_ug</th>\n",
       "      <th>unit_serving_vitb9_ug</th>\n",
       "      <th>unit_serving_vitc_mg</th>\n",
       "      <th>unit_serving_carotenoids_ug</th>\n",
       "    </tr>\n",
       "  </thead>\n",
       "  <tbody>\n",
       "  </tbody>\n",
       "</table>\n",
       "<p>0 rows × 82 columns</p>\n",
       "</div>"
      ],
      "text/plain": [
       "Empty DataFrame\n",
       "Columns: [food_code, food_name, primarysource, energy_kj, energy_kcal, carb_g, protein_g, fat_g, freesugar_g, fibre_g, sfa_mg, mufa_mg, pufa_mg, cholesterol_mg, calcium_mg, phosphorus_mg, magnesium_mg, sodium_mg, potassium_mg, iron_mg, copper_mg, selenium_ug, chromium_mg, manganese_mg, molybdenum_mg, zinc_mg, vita_ug, vite_mg, vitd2_ug, vitd3_ug, vitk1_ug, vitk2_ug, folate_ug, vitb1_mg, vitb2_mg, vitb3_mg, vitb5_mg, vitb6_mg, vitb7_ug, vitb9_ug, vitc_mg, carotenoids_ug, servings_unit, unit_serving_energy_kj, unit_serving_energy_kcal, unit_serving_carb_g, unit_serving_protein_g, unit_serving_fat_g, unit_serving_freesugar_g, unit_serving_fibre_g, unit_serving_sfa_mg, unit_serving_mufa_mg, unit_serving_pufa_mg, unit_serving_cholesterol_mg, unit_serving_calcium_mg, unit_serving_phosphorus_mg, unit_serving_magnesium_mg, unit_serving_sodium_mg, unit_serving_potassium_mg, unit_serving_iron_mg, unit_serving_copper_mg, unit_serving_selenium_ug, unit_serving_chromium_mg, unit_serving_manganese_mg, unit_serving_molybdenum_mg, unit_serving_zinc_mg, unit_serving_vita_ug, unit_serving_vite_mg, unit_serving_vitd2_ug, unit_serving_vitd3_ug, unit_serving_vitk1_ug, unit_serving_vitk2_ug, unit_serving_folate_ug, unit_serving_vitb1_mg, unit_serving_vitb2_mg, unit_serving_vitb3_mg, unit_serving_vitb5_mg, unit_serving_vitb6_mg, unit_serving_vitb7_ug, unit_serving_vitb9_ug, unit_serving_vitc_mg, unit_serving_carotenoids_ug]\n",
       "Index: []\n",
       "\n",
       "[0 rows x 82 columns]"
      ]
     },
     "execution_count": 5,
     "metadata": {},
     "output_type": "execute_result"
    }
   ],
   "source": [
    "import pandas as pd\n",
    "\n",
    "df = pd.read_csv(\"/Users/adithnr/Documents/GitHub/Mock_Hack/Backend/output.csv\")\n",
    "\n",
    "df.loc[df['food_name'] == 'Iced Tea']"
   ]
  },
  {
   "cell_type": "code",
   "execution_count": 6,
   "metadata": {},
   "outputs": [],
   "source": [
    "df.head()\n",
    "df_new = df[['food_name','energy_kcal','carb_g','protein_g'\t,'fat_g']]"
   ]
  },
  {
   "cell_type": "code",
   "execution_count": 10,
   "metadata": {},
   "outputs": [
    {
     "name": "stdout",
     "output_type": "stream",
     "text": [
      "Empty DataFrame\n",
      "Columns: [food_name, energy_kcal, carb_g, protein_g, fat_g]\n",
      "Index: []\n"
     ]
    }
   ],
   "source": [
    "# Search for rows where 'food_name' contains \"tea\"\n",
    "matches = df_new[df_new['food_name'].str.contains(\"Vegetable Dosa\", case=False, na=False)]\n",
    "\n",
    "print(matches)\n"
   ]
  },
  {
   "cell_type": "code",
   "execution_count": 8,
   "metadata": {},
   "outputs": [],
   "source": [
    "dishes=[]\n",
    "for names in df_new['food_name']:\n",
    "    dishes.append(names)\n"
   ]
  },
  {
   "cell_type": "code",
   "execution_count": 9,
   "metadata": {},
   "outputs": [
    {
     "data": {
      "text/plain": [
       "1014"
      ]
     },
     "execution_count": 9,
     "metadata": {},
     "output_type": "execute_result"
    }
   ],
   "source": [
    "len(dishes)"
   ]
  },
  {
   "cell_type": "code",
   "execution_count": null,
   "metadata": {},
   "outputs": [],
   "source": []
  }
 ],
 "metadata": {
  "kernelspec": {
   "display_name": "anr",
   "language": "python",
   "name": "python3"
  },
  "language_info": {
   "codemirror_mode": {
    "name": "ipython",
    "version": 3
   },
   "file_extension": ".py",
   "mimetype": "text/x-python",
   "name": "python",
   "nbconvert_exporter": "python",
   "pygments_lexer": "ipython3",
   "version": "3.10.18"
  }
 },
 "nbformat": 4,
 "nbformat_minor": 2
}
